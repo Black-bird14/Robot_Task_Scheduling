{
  "nbformat": 4,
  "nbformat_minor": 0,
  "metadata": {
    "colab": {
      "provenance": [],
      "gpuType": "T4",
      "authorship_tag": "ABX9TyNNs4aYxSQ7REm2TvgTahDP",
      "include_colab_link": true
    },
    "kernelspec": {
      "name": "python3",
      "display_name": "Python 3"
    },
    "language_info": {
      "name": "python"
    },
    "accelerator": "GPU"
  },
  "cells": [
    {
      "cell_type": "markdown",
      "metadata": {
        "id": "view-in-github",
        "colab_type": "text"
      },
      "source": [
        "<a href=\"https://colab.research.google.com/github/Black-bird14/robot_task_scheduling/blob/main/Robot_Task_Scheduling.ipynb\" target=\"_parent\"><img src=\"https://colab.research.google.com/assets/colab-badge.svg\" alt=\"Open In Colab\"/></a>"
      ]
    },
    {
      "cell_type": "code",
      "execution_count": null,
      "metadata": {
        "id": "EpvDLenT8YBA"
      },
      "outputs": [],
      "source": [
        "#@markdown\n",
        "\n",
        "!pip install ftfy regex tqdm fvcore imageio==2.4.1 imageio-ffmpeg==0.4.5\n",
        "!pip install git+https://github.com/openai/CLIP.git\n",
        "!pip install -U --no-cache-dir gdown --pre\n",
        "!pip install pybullet moviepy\n",
        "!pip install flax==0.5.3\n",
        "!pip install huggingface\n",
        "!pip install easydict\n",
        "!pip install imageio-ffmpeg\n",
        "# !pip install tensorflow==2.7.0  # If error: UNIMPLEMENTED: DNN library is not found.\n",
        "\n",
        "import collections\n",
        "import datetime\n",
        "import os\n",
        "import random\n",
        "import threading\n",
        "import time\n",
        "\n",
        "import cv2  # Used by ViLD.\n",
        "import clip\n",
        "from easydict import EasyDict\n",
        "import flax\n",
        "from flax import linen as nn\n",
        "from flax.training import checkpoints\n",
        "from flax.metrics import tensorboard\n",
        "import imageio\n",
        "from heapq import nlargest\n",
        "import IPython\n",
        "import jax\n",
        "import jax.numpy as jnp\n",
        "import matplotlib.pyplot as plt\n",
        "from moviepy.editor import ImageSequenceClip\n",
        "import numpy as np\n",
        "import openai\n",
        "import optax\n",
        "import pickle\n",
        "from PIL import Image\n",
        "import pybullet\n",
        "import pybullet_data\n",
        "import tensorflow.compat.v1 as tf\n",
        "import torch\n",
        "from tqdm import tqdm\n",
        "\n",
        "#Download PyBullet assets.\n",
        "if not os.path.exists('ur5e/ur5e.urdf'):\n",
        "  !gdown --id 1Cc_fDSBL6QiDvNT4dpfAEbhbALSVoWcc\n",
        "  !gdown --id 1yOMEm-Zp_DL3nItG9RozPeJAmeOldekX\n",
        "  !gdown --id 1GsqNLhEl9dd4Mc3BM0dX3MibOI1FVWNM\n",
        "  !unzip ur5e.zip\n",
        "  !unzip robotiq_2f_85.zip\n",
        "  !unzip bowl.zip\n",
        "\n",
        "# ViLD pretrained model weights.\n",
        "!gsutil cp -r gs://cloud-tpu-checkpoints/detection/projects/vild/colab/image_path_v2 ./\n",
        "\n",
        "%load_ext tensorboard\n",
        "\n",
        "\n",
        "# Show useful GPU info.\n",
        "!nvidia-smi\n",
        "\n",
        "# Show if JAX is using GPU.\n",
        "from jax.lib import xla_bridge\n",
        "print(xla_bridge.get_backend().platform)"
      ]
    }
  ]
}